{
 "cells": [
  {
   "cell_type": "markdown",
   "id": "bb49d7e5",
   "metadata": {},
   "source": [
    "DAUNAT Romain  \n",
    "PINON Mathias "
   ]
  },
  {
   "cell_type": "markdown",
   "id": "d747fe0c",
   "metadata": {},
   "source": [
    "# SAE S2 : LABYRINTHES"
   ]
  },
  {
   "cell_type": "markdown",
   "id": "55c18e3c",
   "metadata": {},
   "source": [
    "## Fonction randint"
   ]
  },
  {
   "cell_type": "code",
   "execution_count": 1,
   "id": "86970a22",
   "metadata": {},
   "outputs": [],
   "source": [
    "from random import *\n",
    "import random"
   ]
  },
  {
   "cell_type": "markdown",
   "id": "f03766f9",
   "metadata": {},
   "source": [
    "## Classe Maze°) "
   ]
  },
  {
   "cell_type": "code",
   "execution_count": 39,
   "id": "e1ed0f91",
   "metadata": {},
   "outputs": [],
   "source": [
    "class Maze:\n",
    "    \"\"\"\n",
    "    Classe Labyrinthe\n",
    "    Représentation sous forme de graphe non-orienté\n",
    "    dont chaque sommet est une cellule (un tuple (l,c))\n",
    "    et dont la structure est représentée par un dictionnaire\n",
    "      - clés : sommets\n",
    "      - valeurs : ensemble des sommets voisins accessibles\n",
    "    \"\"\"\n",
    "    def __init__(self, height, width , empty=False) :\n",
    "        \"\"\"\n",
    "        Constructeur d'un labyrinthe de height cellules de haut \n",
    "        et de width cellules de large \n",
    "        Les voisinages sont initialisés à des ensembles vides\n",
    "        Remarque : dans le labyrinthe créé, chaque cellule est complètement emmurée\n",
    "        \"\"\"\n",
    "        self.height    = height\n",
    "        self.width     = width\n",
    "        self.neighbors = {(i,j): set() for i in range(height) for j in range (width)}\n",
    "        if empty ==  True   : \n",
    "            for i in range(self.height) :\n",
    "                for j in range(self.width):\n",
    "                    if (i == (self.height -1 ) and j == (self.width - 1 )) : \n",
    "                        a = 0 \n",
    "                    elif i == (self.height -1 ) :\n",
    "                        self.neighbors[(i,j)].add((i,j+1))\n",
    "                    elif j == (self.width - 1 ) : \n",
    "                        self.neighbors[(i, j)].add((i+1, j))\n",
    "                    else : \n",
    "                        self.neighbors[(i,j)].add((i,j+1))\n",
    "                        self.neighbors[(i,j)].add((i+1,j))\n",
    "\n",
    "    def info(self):\n",
    "        \"\"\"\n",
    "        **NE PAS MODIFIER CETTE MÉTHODE**\n",
    "        Affichage des attributs d'un objet 'Maze' (fonction utile pour deboguer)\n",
    "        Retour:\n",
    "            chaîne (string): description textuelle des attributs de l'objet\n",
    "        \"\"\"\n",
    "        txt = \"**Informations sur le labyrinthe**\\n\"\n",
    "        txt += f\"- Dimensions de la grille : {self.height} x {self.width}\\n\"\n",
    "        txt += \"- Voisinages :\\n\"\n",
    "        txt += str(self.neighbors)+\"\\n\"\n",
    "        valid = True\n",
    "        for c1 in {(i, j) for i in range(self.height) for j in range(self.width)}:\n",
    "            for c2 in self.neighbors[c1]:\n",
    "                if c1 not in self.neighbors[c2]:\n",
    "                    valid = False\n",
    "                    break\n",
    "            else:\n",
    "                continue\n",
    "            break\n",
    "        txt += \"- Structure cohérente\\n\" if valid else f\"- Structure incohérente : {c1} X {c2}\\n\"\n",
    "        return txt\n",
    "\n",
    "    def __str__(self):\n",
    "        \"\"\"\n",
    "        **NE PAS MODIFIER CETTE MÉTHODE**\n",
    "        Représentation textuelle d'un objet Maze (en utilisant des caractères ascii)\n",
    "        Retour:\n",
    "             chaîne (str) : chaîne de caractères représentant le labyrinthe\n",
    "        \"\"\"\n",
    "        txt = \"\"\n",
    "        # Première ligne\n",
    "        txt += \"┏\"\n",
    "        for j in range(self.width-1):\n",
    "            txt += \"━━━┳\"\n",
    "        txt += \"━━━┓\\n\"\n",
    "        txt += \"┃\"\n",
    "        for j in range(self.width-1):\n",
    "            txt += \"   ┃\" if (0,j+1) not in self.neighbors[(0,j)] else \"    \"\n",
    "        txt += \"   ┃\\n\"\n",
    "        # Lignes normales\n",
    "        for i in range(self.height-1):\n",
    "            txt += \"┣\"\n",
    "            for j in range(self.width-1):\n",
    "                txt += \"━━━╋\" if (i+1,j) not in self.neighbors[(i,j)] else \"   ╋\"\n",
    "            txt += \"━━━┫\\n\" if (i+1,self.width-1) not in self.neighbors[(i,self.width-1)] else \"   ┫\\n\"\n",
    "            txt += \"┃\"\n",
    "            for j in range(self.width):\n",
    "                txt += \"   ┃\" if (i+1,j+1) not in self.neighbors[(i+1,j)] else \"    \"\n",
    "            txt += \"\\n\"\n",
    "        # Bas du tableau\n",
    "        txt += \"┗\"\n",
    "        for i in range(self.width-1):\n",
    "            txt += \"━━━┻\"\n",
    "        txt += \"━━━┛\\n\"\n",
    "\n",
    "        return txt\n",
    "    \n",
    "    def add_wall(self , c1 :int, c2:int):\n",
    "        \"\"\"\"\n",
    "        Méthode d'instance qui à pour fonction de ajouter un mur\n",
    "        Il prend en paramêtre de int \n",
    "        \"\"\"\" \n",
    "        \n",
    "        self.neighbors[c1].remove(c2)\n",
    "        \n",
    "    \n",
    "    def remove_wall(self,c1:int, c2:int):\n",
    "        \"\"\"\"\n",
    "        Méthode d'instance qui à pour fonction de suprimer un mur \n",
    "        \"\"\"\"\n",
    "        \n",
    "        self.neighbors[c1].add(c2)\n",
    "        \n",
    "    \n",
    "    def get_walls(self) -> list  :\n",
    "        \"\"\"\"\n",
    "        Méthode d'instance qui à pour fonction de afficher les murs \n",
    "        Il  renvoie une liste \n",
    "        \"\"\"\"\n",
    "        \n",
    "        lst  = []\n",
    "        for i in range(self.height): \n",
    "            for t in range (self.width) : \n",
    "                cell = (i,t)\n",
    "                valcell = self.neighbors[cell]\n",
    "                if  i+1 != self.height and (i+1,t) not in valcell :\n",
    "                    liste = [] \n",
    "                    liste.append(cell)\n",
    "                    liste.append((i+1,t))\n",
    "                    lst.append(liste)\n",
    "                if t+1 != self.width and (i,t+1) not in valcell:\n",
    "                    liste = [] \n",
    "                    liste.append(cell)\n",
    "                    liste.append((i,t+1))\n",
    "                    lst.append(liste)\n",
    "        return lst \n",
    "                    \n",
    "    \n",
    "    def fill(self) :\n",
    "        \"\"\"\"\n",
    "        Méthode d'instance qui rajoute tous les murs d'un labyrinthe \n",
    "        \"\"\"\"\n",
    "        \n",
    "        for i in range(self.height) : \n",
    "            for t in range(self.width): \n",
    "                cell = (i,t)\n",
    "                if t+1 != self.width :   \n",
    "                    self.add_wall(cell , (i,t+1))\n",
    "                if i+1 != self.height:\n",
    "                    self.add_wall(cell , (i+1,t))\n",
    "                    \n",
    "    def empty(self) : \n",
    "        \"\"\"\"\n",
    "        Méthode d'instance qui supprime tous les murs d'un labyrinthe \n",
    "        \"\"\"\"\n",
    "        for i in range(self.height) : \n",
    "            for t in range(self.width): \n",
    "                cell = (i,t)\n",
    "                if t+1 != self.width :   \n",
    "                    self.remove_wall(cell , (i,t+1))\n",
    "                if i+1 != self.height:\n",
    "                    self.remove_wall(cell , (i+1,t))\n",
    "                    \n",
    "    def get_contiguous_cells(self,cell:tuple) -> list :  \n",
    "        \"\"\"\"\n",
    "        Méthode d'instace qui renvoie tous les voisins d'une cellule passer en paramêtre\n",
    "        Renvoir une liste \n",
    "        \"\"\"\"\n",
    "        cord1 =  cell[0]\n",
    "        cord2 = cell[1]\n",
    "        lst = []\n",
    "        # CONDITION --------------------------------------------------------------------------\n",
    "        if (cord1 != 0 and cord1 != self.height-1) and (cord2 != 0 and cord2 != self.width-1) : \n",
    "            lst.append((cord1+1 ,cord2))\n",
    "            lst.append((cord1-1 ,cord2))\n",
    "            lst.append((cord1 ,cord2+1)) \n",
    "            lst.append((cord1 ,cord2-1))                                                      \n",
    "        elif cord1 == 0 and (cord2 != 0 and cord2 != self.width-1) :\n",
    "            lst.append((cord1+1 ,cord2)) \n",
    "            lst.append((cord1 ,cord2+1)) \n",
    "            lst.append((cord1 ,cord2-1))\n",
    "        elif cord1 == self.height-1 and (cord2 != 0 and cord2 != self.width-1) :\n",
    "            lst.append((cord1-1 ,cord2))\n",
    "            lst.append((cord1 ,cord2+1))\n",
    "            lst.append((cord1 ,cord2-1))\n",
    "        elif cord2 == 0 and (cord1 != 0 and cord1 != self.height-1) : \n",
    "            lst.append((cord1+1 ,cord2))\n",
    "            lst.append((cord1-1 ,cord2))\n",
    "            lst.append((cord1 ,cord2+1)) \n",
    "                                                                                \n",
    "        elif cord2 == self.width-1 and (cord1 != 0 and cord1 != self.height-1): \n",
    "            lst.append((cord1+1 ,cord2))\n",
    "            lst.append((cord1-1 ,cord2)) \n",
    "            lst.append((cord1 ,cord2-1))\n",
    "        elif cord1 == 0 and cord2 == 0 : \n",
    "            lst.append((cord1+1 ,cord2))\n",
    "            lst.append((cord1 ,cord2+1)) \n",
    "        \n",
    "        elif cord1 == 0 and cord2 == self.width-1 : \n",
    "            lst.append((cord1-1 ,cord2))\n",
    "            lst.append((cord1 ,cord2+1)) \n",
    "             \n",
    "        elif cord1 == self.height-1 and cord2 == 0 : \n",
    "            lst.append((cord1-1 ,cord2))\n",
    "            lst.append((cord1 ,cord2+1)) \n",
    "        \n",
    "        elif cord1 == self.height-1 and cord2 == self.width-1 : \n",
    "            lst.append((cord1-1 ,cord2))\n",
    "            lst.append((cord1 ,cord2-1))\n",
    "        # -------------------------------------------------------------------------------------- \n",
    "        return lst \n",
    "    \n",
    "    def get_reachable_cells(self , cell) : \n",
    "        lst = []\n",
    "        mur = self.get_walls()\n",
    "        murvoisin = []\n",
    "        voisin = self.get_contiguous_cells(cell)\n",
    "        for t in range(len(voisin)) : \n",
    "            liste = []\n",
    "            liste.append(cell)\n",
    "            liste.append(voisin[t])\n",
    "            murvoisin.append(liste)\n",
    "        for i in range(len(murvoisin)):\n",
    "            reverse = [murvoisin[i][1] , murvoisin[i][0]]\n",
    "            if murvoisin[i] not in mur and reverse not in mur : \n",
    "                lst.append(murvoisin[i][1]) \n",
    "        return lst \n",
    "    \n",
    "    \n",
    "    def gen_btree(h:int,w:int) :\n",
    "        laby = Maze(h,w)\n",
    "        for i in range (laby.height):\n",
    "            for j in range (laby.width) :\n",
    "                if ((i+1,j) not in laby.get_reachable_cells((i,j)) and (i+1) < laby.height) and ((i,j+1) not in laby.get_reachable_cells((i,j)) and (j+1) < laby.width):\n",
    "                    k = randint(1,2)\n",
    "                    if k == 1 :\n",
    "                        laby.remove_wall((i,j),(i+1,j))\n",
    "                    else :\n",
    "                        laby.remove_wall((i,j),(i,j+1))\n",
    "                elif (i+1,j) not in laby.get_reachable_cells((i,j)) and i+1 < laby.height :\n",
    "                    laby.remove_wall((i,j),(i+1,j))\n",
    "                elif (i,j+1) not in laby.get_reachable_cells((i,j)) and j+1 < laby.width :\n",
    "                    laby.remove_wall((i,j),(i,j+1))\n",
    "        return laby\n",
    "\n",
    "    def gen_sidewinder(h:int,w:int) :\n",
    "        laby = Maze(h,w)\n",
    "        for i in range (laby.height-1):\n",
    "            seq = []\n",
    "            for j in range (laby.width-1):\n",
    "                seq += [(i,j)]\n",
    "                k = randint(1,2)\n",
    "                if k == 1 :\n",
    "                    laby.remove_wall((i,j),(i,j+1))\n",
    "                else :\n",
    "                    m = randint(0,len(seq)-1)\n",
    "                    a =(seq[m][0]+1,seq[m][1])\n",
    "                    laby.remove_wall(seq[m],a)\n",
    "                    seq = []\n",
    "            seq += [(i,laby.width-1)]\n",
    "            k = randint(0,len(seq)-1)\n",
    "            a =(seq[k][0]+1,seq[k][1]) \n",
    "            laby.remove_wall(seq[k],a)\n",
    "        for l in range (laby.width-1):\n",
    "            laby.remove_wall((laby.height-1,l),(laby.height-1,l+1))\n",
    "        return laby\n",
    "    \n",
    "    def gen_fusion( h:int , w:int):\n",
    "        laby = Maze(h,w)\n",
    "        cellule = []\n",
    "        for i in range(h):\n",
    "            for j in range(w) : \n",
    "                cellule.append((i,j))\n",
    "        label = []\n",
    "        for t in range(1,len(cellule)+1):\n",
    "            label.append(t)\n",
    "        cellule_label = dict(zip(cellule,label))\n",
    "        mur = laby.get_walls()\n",
    "        random.shuffle(mur)\n",
    "        \n",
    "        for m in range(len(mur)) : \n",
    "            cell1 = mur[m][0]\n",
    "            cell2 = mur[m][1]\n",
    "            lib1 = cellule_label[cell1]\n",
    "            lib2 = cellule_label[cell2]\n",
    "            if lib1 != lib2 :\n",
    "                laby.remove_wall(cell1,cell2) \n",
    "                for key,values in cellule_label.items():\n",
    "                    if values == lib2 : \n",
    "                        cellule_label[key] = lib1 \n",
    "        return laby\n",
    "            \n",
    "        \n",
    "    def gen_wilson(h : int , w : int):\n",
    "        laby = Maze(h,w)\n",
    "        marquer = []\n",
    "        cellule = []\n",
    "        for i in range(h):\n",
    "            for j in range(w) : \n",
    "                cellule.append((i,j))\n",
    "        num_alea = randint(0,len(cellule)-1)\n",
    "        ping = cellule.pop(num_alea)\n",
    "        marquer.append(ping)\n",
    "        while len(cellule) > 0 : \n",
    "            num_alea = randint(0,len(cellule)-1)\n",
    "            chemin = []\n",
    "            cellule_act = cellule[num_alea]\n",
    "            reset = False \n",
    "            while cellule_act not in marquer and  reset == False : \n",
    "                # 1 = nord , 2 = est , 3 = sud , 4 = ouest \n",
    "                chemin.append(cellule_act)\n",
    "                bouger = randint(1,4)\n",
    "                if bouger == 1 : \n",
    "                    cellule_act = (cellule_act[0]-1 , cellule_act[1]) # On deplace la cellule vers le nord \n",
    "                    if cellule_act in chemin or cellule_act[0] < 0 : \n",
    "                        chemin = []\n",
    "                        reset = True \n",
    "                elif bouger == 2 : \n",
    "                    cellule_act = (cellule_act[0] , cellule_act[1]+1) # On deplace la cellule vers l'est\n",
    "                    if cellule_act in chemin or cellule_act[1] > w-1 : \n",
    "                        chemin = []\n",
    "                        reset = True \n",
    "                elif bouger == 3 : \n",
    "                    cellule_act = (cellule_act[0]+1 , cellule_act[1]) # On deplace la cellule vers le sud\n",
    "                    if cellule_act in chemin or cellule_act[0] > h-1 : \n",
    "                        chemin = []\n",
    "                        reset = True \n",
    "                elif bouger == 4 : \n",
    "                    cellule_act = (cellule_act[0] , cellule_act[1]-1) # On deplace la cellule vers l'ouest\n",
    "                    if cellule_act in chemin or cellule_act[1] < 0 : \n",
    "                        chemin = []\n",
    "                        reset = True\n",
    "            \n",
    "            r = 0 \n",
    "            r += 1            \n",
    "            if reset == False  :\n",
    "                chemin.append(cellule_act)\n",
    "                #print(cellule , 'chemin =',  chemin , 'ping = ' , ping)\n",
    "                for t in range(len(chemin)) : \n",
    "                    if t < len(chemin)-1 : \n",
    "                        laby.remove_wall(chemin[t] ,chemin[t+1])\n",
    "                        laby.remove_wall(chemin[t+1] ,chemin[t])\n",
    "                        #print(\"enlever le mur de \" , chemin[t] , \"a\" , chemin[t+1])\n",
    "                        #print(\"enlever le mur de \" , chemin[t] , \"a\" , ping)\n",
    "                    if chemin[t] not in marquer :     \n",
    "                        index_cellule = cellule.index(chemin[t])\n",
    "                        enlever = cellule.pop(index_cellule)\n",
    "                        marquer.append(enlever)\n",
    "        return laby\n",
    "            \n",
    "            "
   ]
  },
  {
   "cell_type": "markdown",
   "id": "34c01d61",
   "metadata": {},
   "source": [
    "Teste de la classe"
   ]
  },
  {
   "cell_type": "code",
   "execution_count": 38,
   "id": "12f447f0",
   "metadata": {},
   "outputs": [
    {
     "name": "stdout",
     "output_type": "stream",
     "text": [
      "**Informations sur le labyrinthe**\n",
      "- Dimensions de la grille : 12 x 12\n",
      "- Voisinages :\n",
      "{(0, 0): set(), (0, 1): set(), (0, 2): set(), (0, 3): set(), (0, 4): set(), (0, 5): set(), (0, 6): set(), (0, 7): set(), (0, 8): set(), (0, 9): set(), (0, 10): set(), (0, 11): set(), (1, 0): set(), (1, 1): set(), (1, 2): set(), (1, 3): set(), (1, 4): set(), (1, 5): set(), (1, 6): set(), (1, 7): set(), (1, 8): set(), (1, 9): set(), (1, 10): set(), (1, 11): set(), (2, 0): set(), (2, 1): set(), (2, 2): set(), (2, 3): set(), (2, 4): set(), (2, 5): set(), (2, 6): set(), (2, 7): set(), (2, 8): set(), (2, 9): set(), (2, 10): set(), (2, 11): set(), (3, 0): set(), (3, 1): set(), (3, 2): set(), (3, 3): set(), (3, 4): set(), (3, 5): set(), (3, 6): set(), (3, 7): set(), (3, 8): set(), (3, 9): set(), (3, 10): set(), (3, 11): set(), (4, 0): set(), (4, 1): set(), (4, 2): set(), (4, 3): set(), (4, 4): set(), (4, 5): set(), (4, 6): set(), (4, 7): set(), (4, 8): set(), (4, 9): set(), (4, 10): set(), (4, 11): set(), (5, 0): set(), (5, 1): set(), (5, 2): set(), (5, 3): set(), (5, 4): set(), (5, 5): set(), (5, 6): set(), (5, 7): set(), (5, 8): set(), (5, 9): set(), (5, 10): set(), (5, 11): set(), (6, 0): set(), (6, 1): set(), (6, 2): set(), (6, 3): set(), (6, 4): set(), (6, 5): set(), (6, 6): set(), (6, 7): set(), (6, 8): set(), (6, 9): set(), (6, 10): set(), (6, 11): set(), (7, 0): set(), (7, 1): set(), (7, 2): set(), (7, 3): set(), (7, 4): set(), (7, 5): set(), (7, 6): set(), (7, 7): set(), (7, 8): set(), (7, 9): set(), (7, 10): set(), (7, 11): set(), (8, 0): set(), (8, 1): set(), (8, 2): set(), (8, 3): set(), (8, 4): set(), (8, 5): set(), (8, 6): set(), (8, 7): set(), (8, 8): set(), (8, 9): set(), (8, 10): set(), (8, 11): set(), (9, 0): set(), (9, 1): set(), (9, 2): set(), (9, 3): set(), (9, 4): set(), (9, 5): set(), (9, 6): set(), (9, 7): set(), (9, 8): set(), (9, 9): set(), (9, 10): set(), (9, 11): set(), (10, 0): set(), (10, 1): set(), (10, 2): set(), (10, 3): set(), (10, 4): set(), (10, 5): set(), (10, 6): set(), (10, 7): set(), (10, 8): set(), (10, 9): set(), (10, 10): set(), (10, 11): set(), (11, 0): set(), (11, 1): set(), (11, 2): set(), (11, 3): set(), (11, 4): set(), (11, 5): set(), (11, 6): set(), (11, 7): set(), (11, 8): set(), (11, 9): set(), (11, 10): set(), (11, 11): set()}\n",
      "- Structure cohérente\n",
      "\n"
     ]
    }
   ],
   "source": [
    "laby = Maze(4, 4)\n",
    "print(laby.info())"
   ]
  },
  {
   "cell_type": "code",
   "execution_count": 5,
   "id": "e10cf8d8",
   "metadata": {},
   "outputs": [
    {
     "name": "stdout",
     "output_type": "stream",
     "text": [
      "┏━━━┳━━━┳━━━┳━━━┓\n",
      "┃   ┃   ┃   ┃   ┃\n",
      "┣━━━╋━━━╋━━━╋━━━┫\n",
      "┃   ┃   ┃   ┃   ┃\n",
      "┣━━━╋━━━╋━━━╋━━━┫\n",
      "┃   ┃   ┃   ┃   ┃\n",
      "┣━━━╋━━━╋━━━╋━━━┫\n",
      "┃   ┃   ┃   ┃   ┃\n",
      "┗━━━┻━━━┻━━━┻━━━┛\n",
      "\n"
     ]
    }
   ],
   "source": [
    "print(laby)"
   ]
  },
  {
   "cell_type": "code",
   "execution_count": 6,
   "id": "f4c3ff46",
   "metadata": {},
   "outputs": [
    {
     "name": "stdout",
     "output_type": "stream",
     "text": [
      "**Informations sur le labyrinthe**\n",
      "- Dimensions de la grille : 4 x 4\n",
      "- Voisinages :\n",
      "{(0, 0): set(), (0, 1): set(), (0, 2): set(), (0, 3): set(), (1, 0): set(), (1, 1): set(), (1, 2): set(), (1, 3): set(), (2, 0): set(), (2, 1): set(), (2, 2): set(), (2, 3): set(), (3, 0): set(), (3, 1): set(), (3, 2): set(), (3, 3): set()}\n",
      "- Structure cohérente\n",
      "\n"
     ]
    }
   ],
   "source": [
    "laby = Maze(4, 4)\n",
    "print(laby.info())"
   ]
  },
  {
   "cell_type": "markdown",
   "id": "12cfa6f7",
   "metadata": {},
   "source": [
    "Changement du labyrinthe"
   ]
  },
  {
   "cell_type": "code",
   "execution_count": 7,
   "id": "ba7f7b85",
   "metadata": {},
   "outputs": [
    {
     "name": "stdout",
     "output_type": "stream",
     "text": [
      "{(0, 0): {(1, 0)}, (0, 1): {(1, 1), (0, 2)}, (0, 2): {(0, 1), (0, 3)}, (0, 3): {(0, 2), (1, 3)}, (1, 0): {(2, 0), (0, 0)}, (1, 1): {(0, 1), (1, 2)}, (1, 2): {(1, 1), (2, 2)}, (1, 3): {(2, 3), (0, 3)}, (2, 0): {(1, 0), (2, 1), (3, 0)}, (2, 1): {(2, 0), (2, 2)}, (2, 2): {(1, 2), (2, 1)}, (2, 3): {(3, 3), (1, 3)}, (3, 0): {(3, 1), (2, 0)}, (3, 1): {(3, 2), (3, 0)}, (3, 2): {(3, 1)}, (3, 3): {(2, 3)}}\n"
     ]
    }
   ],
   "source": [
    "laby.neighbors = {\n",
    "    (0, 0): {(1, 0)},\n",
    "    (0, 1): {(0, 2), (1, 1)},\n",
    "    (0, 2): {(0, 1), (0, 3)},\n",
    "    (0, 3): {(0, 2), (1, 3)},\n",
    "    (1, 0): {(2, 0), (0, 0)},\n",
    "    (1, 1): {(0, 1), (1, 2)},\n",
    "    (1, 2): {(1, 1), (2, 2)},\n",
    "    (1, 3): {(2, 3), (0, 3)},\n",
    "    (2, 0): {(1, 0), (2, 1), (3, 0)},\n",
    "    (2, 1): {(2, 0), (2, 2)},\n",
    "    (2, 2): {(1, 2), (2, 1)},\n",
    "    (2, 3): {(3, 3), (1, 3)},\n",
    "    (3, 0): {(3, 1), (2, 0)},\n",
    "    (3, 1): {(3, 2), (3, 0)},\n",
    "    (3, 2): {(3, 1)},\n",
    "    (3, 3): {(2, 3)}\n",
    "}\n",
    "print(laby.neighbors)\n"
   ]
  },
  {
   "cell_type": "code",
   "execution_count": 8,
   "id": "8e4782b0",
   "metadata": {},
   "outputs": [
    {
     "name": "stdout",
     "output_type": "stream",
     "text": [
      "┏━━━┳━━━┳━━━┳━━━┓\n",
      "┃   ┃           ┃\n",
      "┣   ╋   ╋━━━╋   ┫\n",
      "┃   ┃       ┃   ┃\n",
      "┣   ╋━━━╋   ╋━━━┫\n",
      "┃           ┃   ┃\n",
      "┣   ╋━━━╋━━━╋   ┫\n",
      "┃           ┃   ┃\n",
      "┗━━━┻━━━┻━━━┻━━━┛\n",
      "\n"
     ]
    }
   ],
   "source": [
    "laby.neighbors[(1,3)].remove((2,3))\n",
    "print(laby)"
   ]
  },
  {
   "cell_type": "code",
   "execution_count": 9,
   "id": "a87e2a57",
   "metadata": {},
   "outputs": [
    {
     "name": "stdout",
     "output_type": "stream",
     "text": [
      "┏━━━┳━━━┳━━━┳━━━┓\n",
      "┃   ┃           ┃\n",
      "┣   ╋   ╋━━━╋   ┫\n",
      "┃   ┃       ┃   ┃\n",
      "┣   ╋━━━╋   ╋   ┫\n",
      "┃           ┃   ┃\n",
      "┣   ╋━━━╋━━━╋   ┫\n",
      "┃           ┃   ┃\n",
      "┗━━━┻━━━┻━━━┻━━━┛\n",
      "\n"
     ]
    }
   ],
   "source": [
    "laby.neighbors[(1, 3)].add((2, 3))\n",
    "\n",
    "print(laby)"
   ]
  },
  {
   "cell_type": "code",
   "execution_count": 10,
   "id": "ad1e06b1",
   "metadata": {},
   "outputs": [
    {
     "name": "stdout",
     "output_type": "stream",
     "text": [
      "┏━━━┳━━━┳━━━┳━━━┓\n",
      "┃   ┃           ┃\n",
      "┣   ╋   ╋━━━╋   ┫\n",
      "┃   ┃       ┃   ┃\n",
      "┣   ╋━━━╋   ╋━━━┫\n",
      "┃           ┃   ┃\n",
      "┣   ╋━━━╋━━━╋   ┫\n",
      "┃           ┃   ┃\n",
      "┗━━━┻━━━┻━━━┻━━━┛\n",
      "\n",
      "**Informations sur le labyrinthe**\n",
      "- Dimensions de la grille : 4 x 4\n",
      "- Voisinages :\n",
      "{(0, 0): {(1, 0)}, (0, 1): {(1, 1), (0, 2)}, (0, 2): {(0, 1), (0, 3)}, (0, 3): {(0, 2), (1, 3)}, (1, 0): {(2, 0), (0, 0)}, (1, 1): {(0, 1), (1, 2)}, (1, 2): {(1, 1), (2, 2)}, (1, 3): {(0, 3)}, (2, 0): {(1, 0), (2, 1), (3, 0)}, (2, 1): {(2, 0), (2, 2)}, (2, 2): {(1, 2), (2, 1)}, (2, 3): {(3, 3), (1, 3)}, (3, 0): {(3, 1), (2, 0)}, (3, 1): {(3, 2), (3, 0)}, (3, 2): {(3, 1)}, (3, 3): {(2, 3)}}\n",
      "- Structure incohérente : (2, 3) X (1, 3)\n",
      "\n"
     ]
    }
   ],
   "source": [
    "laby.neighbors[(1, 3)].remove((2, 3))\n",
    "print(laby)\n",
    "print(laby.info())"
   ]
  },
  {
   "cell_type": "code",
   "execution_count": 11,
   "id": "a489d58f",
   "metadata": {},
   "outputs": [],
   "source": [
    "laby.neighbors[(2, 3)].remove((1,3))"
   ]
  },
  {
   "cell_type": "code",
   "execution_count": 12,
   "id": "8747b85c",
   "metadata": {},
   "outputs": [
    {
     "name": "stdout",
     "output_type": "stream",
     "text": [
      "Il y a un mur entre (1, 3) et (2, 3) car (1, 3) n'est pas dans le voisinage de (2, 3) et (2, 3) n'est pas dans le voisinage de (1, 3)\n"
     ]
    }
   ],
   "source": [
    "c1 = (1, 3)\n",
    "c2 = (2, 3)\n",
    "if c1 in laby.neighbors[c2] and c2 in laby.neighbors[c1]:\n",
    "    print(f\"Il n'y a pas de mur entre {c1} et {c2} car elles sont mutuellement voisines\")\n",
    "elif c1 not in laby.neighbors[c2] and c2 not in laby.neighbors[c1]:\n",
    "    print(f\"Il y a un mur entre {c1} et {c2} car {c1} n'est pas dans le voisinage de {c2} et {c2} n'est pas dans le voisinage de {c1}\")\n",
    "else:\n",
    "    print(f\"Il y a une incohérence de réciprocité des voisinages de {c1} et {c2}\")"
   ]
  },
  {
   "cell_type": "code",
   "execution_count": 13,
   "id": "01e91a07",
   "metadata": {},
   "outputs": [
    {
     "name": "stdout",
     "output_type": "stream",
     "text": [
      "(1, 3) n'est pas accessible depuis (2, 3) et vice-versa\n"
     ]
    }
   ],
   "source": [
    "c1 = (1, 3)\n",
    "c2 = (2, 3)\n",
    "if c1 in laby.neighbors[c2] and c2 in laby.neighbors[c1]:\n",
    "    print(f\"{c1} est accessible depuis {c2} et vice-versa\")\n",
    "elif c1 not in laby.neighbors[c2] and c2 not in laby.neighbors[c1]:\n",
    "    print(f\"{c1} n'est pas accessible depuis {c2} et vice-versa\")\n",
    "else:\n",
    "    print(f\"Il y a une incohérence de réciprocité des voisinages de {c1} et {c2}\")"
   ]
  },
  {
   "cell_type": "code",
   "execution_count": 14,
   "id": "d58ce957",
   "metadata": {},
   "outputs": [
    {
     "name": "stdout",
     "output_type": "stream",
     "text": [
      "Liste des cellules : \n",
      "[(0, 0), (0, 1), (0, 2), (0, 3), (1, 0), (1, 1), (1, 2), (1, 3), (2, 0), (2, 1), (2, 2), (2, 3), (3, 0), (3, 1), (3, 2), (3, 3)]\n"
     ]
    }
   ],
   "source": [
    "L = []\n",
    "for i in range(laby.height):\n",
    "    for j in range(laby.width):\n",
    "        L.append((i,j))\n",
    "print(f\"Liste des cellules : \\n{L}\")"
   ]
  },
  {
   "cell_type": "markdown",
   "id": "b5a7bb3b",
   "metadata": {},
   "source": [
    "### Implementation du labyrinthe sans mur "
   ]
  },
  {
   "cell_type": "code",
   "execution_count": 15,
   "id": "edd7faca",
   "metadata": {},
   "outputs": [
    {
     "name": "stdout",
     "output_type": "stream",
     "text": [
      "┏━━━┳━━━┳━━━┳━━━┓\n",
      "┃               ┃\n",
      "┣   ╋   ╋   ╋   ┫\n",
      "┃               ┃\n",
      "┣   ╋   ╋   ╋   ┫\n",
      "┃               ┃\n",
      "┣   ╋   ╋   ╋   ┫\n",
      "┃               ┃\n",
      "┗━━━┻━━━┻━━━┻━━━┛\n",
      "\n"
     ]
    }
   ],
   "source": [
    "laby = Maze(4, 4, empty = True)\n",
    "print(laby)"
   ]
  },
  {
   "cell_type": "code",
   "execution_count": 16,
   "id": "fcaf29b1",
   "metadata": {},
   "outputs": [
    {
     "name": "stdout",
     "output_type": "stream",
     "text": [
      "┏━━━┳━━━┳━━━┳━━━┓\n",
      "┃   ┃   ┃   ┃   ┃\n",
      "┣━━━╋━━━╋━━━╋━━━┫\n",
      "┃   ┃   ┃   ┃   ┃\n",
      "┣━━━╋━━━╋━━━╋━━━┫\n",
      "┃   ┃   ┃   ┃   ┃\n",
      "┣━━━╋━━━╋━━━╋━━━┫\n",
      "┃   ┃   ┃   ┃   ┃\n",
      "┗━━━┻━━━┻━━━┻━━━┛\n",
      "\n"
     ]
    }
   ],
   "source": [
    "laby = Maze(4, 4, empty = False)\n",
    "print(laby)"
   ]
  },
  {
   "cell_type": "markdown",
   "id": "43f4073d",
   "metadata": {},
   "source": [
    "## 4 Manipulation de labyrinthes"
   ]
  },
  {
   "cell_type": "markdown",
   "id": "19168a35",
   "metadata": {},
   "source": [
    "### **Méthode d'instance fill**  : "
   ]
  },
  {
   "cell_type": "code",
   "execution_count": 17,
   "id": "73f793d0",
   "metadata": {
    "scrolled": true
   },
   "outputs": [
    {
     "name": "stdout",
     "output_type": "stream",
     "text": [
      "┏━━━┳━━━┳━━━┳━━━┳━━━┓\n",
      "┃   ┃   ┃   ┃   ┃   ┃\n",
      "┣━━━╋━━━╋━━━╋━━━╋━━━┫\n",
      "┃   ┃   ┃   ┃   ┃   ┃\n",
      "┣━━━╋━━━╋━━━╋━━━╋━━━┫\n",
      "┃   ┃   ┃   ┃   ┃   ┃\n",
      "┣━━━╋━━━╋━━━╋━━━╋━━━┫\n",
      "┃   ┃   ┃   ┃   ┃   ┃\n",
      "┣━━━╋━━━╋━━━╋━━━╋━━━┫\n",
      "┃   ┃   ┃   ┃   ┃   ┃\n",
      "┗━━━┻━━━┻━━━┻━━━┻━━━┛\n",
      "\n"
     ]
    }
   ],
   "source": [
    "laby = Maze(5, 5, empty = True)\n",
    "laby.fill()\n",
    "print(laby)"
   ]
  },
  {
   "cell_type": "markdown",
   "id": "71652150",
   "metadata": {},
   "source": [
    "###  **Méthode d'instance remove_wall** :"
   ]
  },
  {
   "cell_type": "code",
   "execution_count": 18,
   "id": "5b334617",
   "metadata": {},
   "outputs": [
    {
     "name": "stdout",
     "output_type": "stream",
     "text": [
      "┏━━━┳━━━┳━━━┳━━━┳━━━┓\n",
      "┃       ┃   ┃   ┃   ┃\n",
      "┣━━━╋━━━╋━━━╋━━━╋━━━┫\n",
      "┃   ┃   ┃   ┃   ┃   ┃\n",
      "┣━━━╋━━━╋━━━╋━━━╋━━━┫\n",
      "┃   ┃   ┃   ┃   ┃   ┃\n",
      "┣━━━╋━━━╋━━━╋━━━╋━━━┫\n",
      "┃   ┃   ┃   ┃   ┃   ┃\n",
      "┣━━━╋━━━╋━━━╋━━━╋━━━┫\n",
      "┃   ┃   ┃   ┃   ┃   ┃\n",
      "┗━━━┻━━━┻━━━┻━━━┻━━━┛\n",
      "\n"
     ]
    }
   ],
   "source": [
    "laby.remove_wall((0,0), (0,1))\n",
    "print(laby)"
   ]
  },
  {
   "cell_type": "markdown",
   "id": "981478f8",
   "metadata": {},
   "source": [
    "### **Méthode d'instance add_wall** :"
   ]
  },
  {
   "cell_type": "code",
   "execution_count": 19,
   "id": "3a6f61fe",
   "metadata": {},
   "outputs": [
    {
     "name": "stdout",
     "output_type": "stream",
     "text": [
      "┏━━━┳━━━┳━━━┳━━━┳━━━┓\n",
      "┃   ┃               ┃\n",
      "┣   ╋━━━╋   ╋   ╋   ┫\n",
      "┃                   ┃\n",
      "┣   ╋   ╋   ╋   ╋   ┫\n",
      "┃                   ┃\n",
      "┣   ╋   ╋   ╋   ╋   ┫\n",
      "┃                   ┃\n",
      "┣   ╋   ╋   ╋   ╋   ┫\n",
      "┃                   ┃\n",
      "┗━━━┻━━━┻━━━┻━━━┻━━━┛\n",
      "\n"
     ]
    }
   ],
   "source": [
    "laby.empty()\n",
    "laby.add_wall((0, 0), (0, 1))\n",
    "laby.add_wall((0, 1), (1, 1))\n",
    "print(laby)"
   ]
  },
  {
   "cell_type": "markdown",
   "id": "95f90a18",
   "metadata": {},
   "source": [
    "### **Méthode d'instance get_walls** : "
   ]
  },
  {
   "cell_type": "code",
   "execution_count": 20,
   "id": "35da1bf7",
   "metadata": {},
   "outputs": [
    {
     "name": "stdout",
     "output_type": "stream",
     "text": [
      "[[(0, 0), (0, 1)], [(0, 1), (1, 1)]]\n",
      "┏━━━┳━━━┳━━━┳━━━┳━━━┓\n",
      "┃   ┃               ┃\n",
      "┣   ╋━━━╋   ╋   ╋   ┫\n",
      "┃                   ┃\n",
      "┣   ╋   ╋   ╋   ╋   ┫\n",
      "┃                   ┃\n",
      "┣   ╋   ╋   ╋   ╋   ┫\n",
      "┃                   ┃\n",
      "┣   ╋   ╋   ╋   ╋   ┫\n",
      "┃                   ┃\n",
      "┗━━━┻━━━┻━━━┻━━━┻━━━┛\n",
      "\n"
     ]
    }
   ],
   "source": [
    "print(laby.get_walls())\n",
    "print(laby)\n"
   ]
  },
  {
   "cell_type": "markdown",
   "id": "061815d5",
   "metadata": {},
   "source": [
    "### **Méthode d'instance get_contiguous_cells** :"
   ]
  },
  {
   "cell_type": "code",
   "execution_count": 21,
   "id": "dea93ecd",
   "metadata": {},
   "outputs": [
    {
     "name": "stdout",
     "output_type": "stream",
     "text": [
      "[(3, 2), (1, 2), (2, 3), (2, 1)]\n"
     ]
    }
   ],
   "source": [
    "print(laby.get_contiguous_cells((2,2)))"
   ]
  },
  {
   "cell_type": "markdown",
   "id": "858b3c96",
   "metadata": {},
   "source": [
    "###  **Méthode d'instance get_reachable_cells** : "
   ]
  },
  {
   "cell_type": "code",
   "execution_count": 22,
   "id": "af940d2b",
   "metadata": {},
   "outputs": [
    {
     "name": "stdout",
     "output_type": "stream",
     "text": [
      "[(0, 2)]\n"
     ]
    }
   ],
   "source": [
    "print(laby.get_reachable_cells((0,1)))\n"
   ]
  },
  {
   "cell_type": "markdown",
   "id": "401c476c",
   "metadata": {},
   "source": [
    "## **5 Génération**"
   ]
  },
  {
   "cell_type": "markdown",
   "id": "7a5d9c48",
   "metadata": {},
   "source": [
    "### Algorithme Sidewinder"
   ]
  },
  {
   "cell_type": "code",
   "execution_count": 23,
   "id": "cc383e4a",
   "metadata": {},
   "outputs": [
    {
     "name": "stdout",
     "output_type": "stream",
     "text": [
      "┏━━━┳━━━┳━━━┳━━━┳━━━┓\n",
      "┃           ┃       ┃\n",
      "┣━━━╋━━━╋   ╋━━━╋   ┫\n",
      "┃                   ┃\n",
      "┣━━━╋━━━╋━━━╋━━━╋   ┫\n",
      "┃           ┃   ┃   ┃\n",
      "┣━━━╋━━━╋   ╋   ╋   ┫\n",
      "┃   ┃       ┃       ┃\n",
      "┣   ╋━━━╋   ╋━━━╋   ┫\n",
      "┃                   ┃\n",
      "┗━━━┻━━━┻━━━┻━━━┻━━━┛\n",
      "\n"
     ]
    }
   ],
   "source": [
    "laby = Maze.gen_btree(5, 5)\n",
    "print(laby)"
   ]
  },
  {
   "cell_type": "markdown",
   "id": "900e5893",
   "metadata": {},
   "source": [
    "###  Méthode gen_sidewinder"
   ]
  },
  {
   "cell_type": "code",
   "execution_count": 24,
   "id": "5d7f1c1e",
   "metadata": {},
   "outputs": [
    {
     "name": "stdout",
     "output_type": "stream",
     "text": [
      "┏━━━┳━━━┳━━━┳━━━┓\n",
      "┃       ┃       ┃\n",
      "┣   ╋━━━╋   ╋━━━┫\n",
      "┃               ┃\n",
      "┣━━━╋   ╋━━━╋━━━┫\n",
      "┃       ┃   ┃   ┃\n",
      "┣   ╋━━━╋   ╋   ┫\n",
      "┃               ┃\n",
      "┗━━━┻━━━┻━━━┻━━━┛\n",
      "\n"
     ]
    }
   ],
   "source": [
    "laby = Maze.gen_sidewinder(4, 4)\n",
    "print(laby)"
   ]
  },
  {
   "cell_type": "markdown",
   "id": "b4b9f576",
   "metadata": {},
   "source": [
    "### 5.3 Fusion de chemins"
   ]
  },
  {
   "cell_type": "code",
   "execution_count": 25,
   "id": "e944d2c0",
   "metadata": {
    "scrolled": true
   },
   "outputs": [
    {
     "name": "stdout",
     "output_type": "stream",
     "text": [
      "┏━━━┳━━━┳━━━┳━━━┳━━━┳━━━┳━━━┳━━━┳━━━┳━━━┳━━━┳━━━┳━━━┳━━━┳━━━┓\n",
      "┃   ┃       ┃   ┃       ┃       ┃       ┃               ┃   ┃\n",
      "┣   ╋━━━╋   ╋   ╋━━━╋   ╋━━━╋   ╋   ╋━━━╋━━━╋   ╋━━━╋━━━╋   ┫\n",
      "┃       ┃   ┃               ┃                       ┃   ┃   ┃\n",
      "┣   ╋━━━╋   ╋   ╋━━━╋━━━╋━━━╋━━━╋━━━╋━━━╋   ╋━━━╋   ╋   ╋   ┫\n",
      "┃   ┃           ┃   ┃       ┃                   ┃   ┃   ┃   ┃\n",
      "┣   ╋━━━╋   ╋   ╋   ╋━━━╋   ╋   ╋━━━╋   ╋━━━╋━━━╋━━━╋   ╋   ┫\n",
      "┃   ┃       ┃       ┃   ┃       ┃       ┃       ┃           ┃\n",
      "┣   ╋━━━╋━━━╋   ╋   ╋   ╋━━━╋━━━╋━━━╋   ╋   ╋━━━╋   ╋   ╋   ┫\n",
      "┃   ┃           ┃           ┃               ┃       ┃   ┃   ┃\n",
      "┣   ╋━━━╋   ╋   ╋━━━╋   ╋━━━╋   ╋━━━╋   ╋━━━╋   ╋━━━╋━━━╋   ┫\n",
      "┃       ┃   ┃       ┃   ┃       ┃   ┃   ┃       ┃   ┃       ┃\n",
      "┣━━━╋   ╋━━━╋   ╋   ╋━━━╋━━━╋   ╋   ╋   ╋━━━╋━━━╋   ╋   ╋   ┫\n",
      "┃       ┃       ┃   ┃               ┃   ┃   ┃   ┃   ┃   ┃   ┃\n",
      "┣   ╋━━━╋   ╋━━━╋   ╋   ╋━━━╋━━━╋━━━╋   ╋   ╋   ╋   ╋   ╋━━━┫\n",
      "┃           ┃           ┃       ┃   ┃           ┃       ┃   ┃\n",
      "┣   ╋   ╋━━━╋━━━╋━━━╋━━━╋   ╋━━━╋   ╋   ╋━━━╋   ╋   ╋━━━╋   ┫\n",
      "┃   ┃           ┃           ┃   ┃       ┃           ┃       ┃\n",
      "┣   ╋━━━╋   ╋   ╋   ╋━━━╋━━━╋   ╋   ╋━━━╋━━━╋   ╋━━━╋   ╋━━━┫\n",
      "┃   ┃       ┃           ┃               ┃       ┃           ┃\n",
      "┣━━━╋━━━╋   ╋   ╋━━━╋   ╋━━━╋━━━╋   ╋   ╋━━━╋━━━╋━━━╋━━━╋   ┫\n",
      "┃           ┃       ┃   ┃           ┃                   ┃   ┃\n",
      "┣━━━╋━━━╋   ╋━━━╋   ╋━━━╋━━━╋   ╋━━━╋   ╋━━━╋   ╋━━━╋   ╋   ┫\n",
      "┃   ┃   ┃       ┃   ┃           ┃   ┃       ┃   ┃   ┃       ┃\n",
      "┣   ╋   ╋   ╋━━━╋━━━╋━━━╋━━━╋━━━╋   ╋━━━╋   ╋   ╋   ╋   ╋   ┫\n",
      "┃       ┃   ┃       ┃   ┃   ┃               ┃   ┃   ┃   ┃   ┃\n",
      "┣━━━╋   ╋   ╋━━━╋   ╋   ╋   ╋━━━╋━━━╋━━━╋   ╋   ╋   ╋   ╋━━━┫\n",
      "┃           ┃               ┃   ┃   ┃       ┃   ┃           ┃\n",
      "┣   ╋   ╋━━━╋━━━╋   ╋   ╋   ╋   ╋   ╋━━━╋   ╋━━━╋━━━╋   ╋   ┫\n",
      "┃   ┃           ┃   ┃   ┃                       ┃       ┃   ┃\n",
      "┗━━━┻━━━┻━━━┻━━━┻━━━┻━━━┻━━━┻━━━┻━━━┻━━━┻━━━┻━━━┻━━━┻━━━┻━━━┛\n",
      "\n"
     ]
    }
   ],
   "source": [
    "laby = Maze.gen_fusion(15,15)\n",
    "print(laby)"
   ]
  },
  {
   "cell_type": "markdown",
   "id": "aa3add50",
   "metadata": {},
   "source": [
    "### 5.5 L’algorithme de Wilson"
   ]
  },
  {
   "cell_type": "code",
   "execution_count": 46,
   "id": "2a2ca008",
   "metadata": {},
   "outputs": [
    {
     "name": "stdout",
     "output_type": "stream",
     "text": [
      "┏━━━┳━━━┳━━━┳━━━┳━━━┳━━━┳━━━┳━━━┳━━━┳━━━┳━━━┳━━━┳━━━┳━━━┳━━━┳━━━┳━━━┳━━━┳━━━┳━━━┳━━━┳━━━┳━━━┳━━━┳━━━┳━━━┳━━━┳━━━┳━━━┳━━━┓\n",
      "┃                       ┃   ┃           ┃           ┃               ┃               ┃       ┃   ┃   ┃       ┃           ┃\n",
      "┣   ╋━━━╋   ╋━━━╋   ╋   ╋   ╋   ╋━━━╋━━━╋   ╋   ╋━━━╋━━━╋   ╋   ╋━━━╋━━━╋   ╋━━━╋   ╋━━━╋   ╋   ╋   ╋   ╋━━━╋━━━╋━━━╋   ┫\n",
      "┃   ┃       ┃   ┃   ┃   ┃   ┃               ┃           ┃   ┃   ┃       ┃   ┃           ┃                               ┃\n",
      "┣   ╋━━━╋   ╋   ╋━━━╋   ╋   ╋   ╋   ╋━━━╋━━━╋━━━╋━━━╋   ╋   ╋   ╋   ╋   ╋━━━╋   ╋━━━╋   ╋   ╋   ╋   ╋   ╋━━━╋   ╋━━━╋   ┫\n",
      "┃       ┃       ┃       ┃       ┃   ┃           ┃   ┃   ┃   ┃   ┃   ┃       ┃       ┃       ┃   ┃   ┃   ┃       ┃       ┃\n",
      "┣━━━╋━━━╋   ╋   ╋━━━╋━━━╋   ╋━━━╋   ╋   ╋━━━╋━━━╋   ╋━━━╋   ╋   ╋━━━╋━━━╋   ╋   ╋━━━╋   ╋━━━╋━━━╋   ╋   ╋   ╋   ╋   ╋━━━┫\n",
      "┃           ┃                   ┃           ┃               ┃                       ┃       ┃       ┃   ┃   ┃   ┃   ┃   ┃\n",
      "┣━━━╋━━━╋   ╋━━━╋━━━╋━━━╋   ╋━━━╋━━━╋   ╋━━━╋   ╋━━━╋   ╋━━━╋━━━╋   ╋━━━╋   ╋━━━╋━━━╋━━━╋━━━╋━━━╋━━━╋   ╋   ╋━━━╋   ╋   ┫\n",
      "┃   ┃   ┃       ┃       ┃   ┃               ┃       ┃   ┃       ┃       ┃   ┃   ┃       ┃   ┃           ┃       ┃       ┃\n",
      "┣   ╋   ╋━━━╋━━━╋   ╋   ╋━━━╋━━━╋━━━╋━━━╋   ╋   ╋━━━╋━━━╋   ╋━━━╋━━━╋   ╋━━━╋   ╋   ╋━━━╋   ╋   ╋   ╋━━━╋━━━╋━━━╋━━━╋━━━┫\n",
      "┃   ┃       ┃       ┃           ┃   ┃   ┃           ┃       ┃                           ┃       ┃   ┃                   ┃\n",
      "┣   ╋━━━╋   ╋━━━╋━━━╋   ╋━━━╋━━━╋   ╋   ╋   ╋━━━╋━━━╋━━━╋   ╋━━━╋   ╋   ╋━━━╋   ╋   ╋   ╋   ╋━━━╋   ╋━━━╋   ╋   ╋━━━╋   ┫\n",
      "┃           ┃           ┃       ┃   ┃           ┃   ┃       ┃       ┃   ┃       ┃   ┃   ┃   ┃       ┃       ┃       ┃   ┃\n",
      "┣   ╋━━━╋   ╋   ╋   ╋━━━╋   ╋━━━╋   ╋━━━╋   ╋   ╋   ╋   ╋   ╋   ╋━━━╋━━━╋━━━╋   ╋━━━╋━━━╋   ╋━━━╋   ╋   ╋━━━╋   ╋━━━╋━━━┫\n",
      "┃       ┃       ┃                   ┃       ┃   ┃       ┃   ┃   ┃           ┃           ┃   ┃               ┃       ┃   ┃\n",
      "┣   ╋━━━╋   ╋━━━╋━━━╋━━━╋━━━╋━━━╋   ╋━━━╋   ╋━━━╋   ╋━━━╋━━━╋   ╋━━━╋   ╋━━━╋   ╋━━━╋━━━╋━━━╋━━━╋   ╋   ╋━━━╋━━━╋   ╋   ┫\n",
      "┃       ┃       ┃   ┃       ┃                               ┃       ┃   ┃       ┃                   ┃   ┃       ┃       ┃\n",
      "┣━━━╋   ╋━━━╋   ╋   ╋━━━╋   ╋   ╋━━━╋━━━╋   ╋━━━╋━━━╋   ╋━━━╋━━━╋━━━╋   ╋━━━╋   ╋━━━╋━━━╋━━━╋━━━╋   ╋━━━╋   ╋   ╋   ╋━━━┫\n",
      "┃   ┃   ┃               ┃       ┃           ┃   ┃       ┃               ┃       ┃       ┃           ┃   ┃   ┃   ┃   ┃   ┃\n",
      "┣   ╋   ╋   ╋━━━╋   ╋   ╋━━━╋   ╋   ╋   ╋   ╋   ╋   ╋   ╋   ╋━━━╋   ╋   ╋━━━╋   ╋   ╋━━━╋   ╋━━━╋   ╋   ╋━━━╋   ╋   ╋   ┫\n",
      "┃       ┃   ┃       ┃   ┃   ┃   ┃   ┃   ┃       ┃   ┃           ┃   ┃       ┃           ┃   ┃       ┃           ┃   ┃   ┃\n",
      "┣   ╋━━━╋━━━╋━━━╋━━━╋━━━╋   ╋━━━╋━━━╋   ╋━━━╋   ╋━━━╋━━━╋   ╋   ╋━━━╋━━━╋━━━╋━━━╋━━━╋━━━╋━━━╋━━━╋   ╋━━━╋   ╋   ╋━━━╋   ┫\n",
      "┃   ┃   ┃           ┃       ┃   ┃       ┃       ┃           ┃           ┃   ┃   ┃       ┃       ┃   ┃       ┃           ┃\n",
      "┣━━━╋   ╋   ╋   ╋   ╋━━━╋   ╋   ╋━━━╋   ╋━━━╋   ╋━━━╋━━━╋━━━╋   ╋━━━╋   ╋   ╋   ╋━━━╋   ╋━━━╋   ╋━━━╋   ╋━━━╋━━━╋━━━╋━━━┫\n",
      "┃       ┃   ┃   ┃   ┃   ┃           ┃       ┃       ┃               ┃               ┃                           ┃   ┃   ┃\n",
      "┣━━━╋   ╋   ╋   ╋━━━╋   ╋   ╋   ╋━━━╋━━━╋━━━╋   ╋━━━╋━━━╋━━━╋   ╋   ╋   ╋━━━╋━━━╋   ╋   ╋━━━╋━━━╋━━━╋━━━╋   ╋   ╋   ╋   ┫\n",
      "┃   ┃       ┃           ┃   ┃                       ┃           ┃   ┃       ┃       ┃               ┃   ┃   ┃           ┃\n",
      "┣   ╋━━━╋━━━╋   ╋━━━╋   ╋   ╋   ╋   ╋   ╋━━━╋━━━╋   ╋━━━╋━━━╋━━━╋   ╋━━━╋   ╋━━━╋━━━╋   ╋━━━╋━━━╋━━━╋   ╋━━━╋━━━╋   ╋━━━┫\n",
      "┃   ┃           ┃   ┃       ┃   ┃   ┃   ┃           ┃   ┃               ┃               ┃                       ┃       ┃\n",
      "┣   ╋━━━╋   ╋━━━╋   ╋   ╋   ╋   ╋━━━╋━━━╋━━━╋━━━╋   ╋   ╋   ╋━━━╋━━━╋   ╋   ╋━━━╋   ╋   ╋   ╋━━━╋   ╋   ╋━━━╋   ╋━━━╋━━━┫\n",
      "┃           ┃   ┃       ┃   ┃           ┃           ┃               ┃   ┃       ┃   ┃   ┃   ┃   ┃   ┃       ┃           ┃\n",
      "┣   ╋━━━╋   ╋   ╋━━━╋   ╋   ╋━━━╋━━━╋━━━╋   ╋━━━╋━━━╋   ╋━━━╋━━━╋   ╋━━━╋━━━╋━━━╋   ╋━━━╋━━━╋   ╋   ╋   ╋   ╋━━━╋   ╋   ┫\n",
      "┃       ┃           ┃   ┃   ┃       ┃       ┃           ┃       ┃   ┃   ┃   ┃               ┃   ┃   ┃   ┃   ┃       ┃   ┃\n",
      "┣━━━╋━━━╋   ╋━━━╋━━━╋   ╋━━━╋   ╋━━━╋   ╋   ╋━━━╋━━━╋   ╋   ╋   ╋━━━╋   ╋   ╋━━━╋   ╋━━━╋━━━╋   ╋   ╋━━━╋━━━╋━━━╋━━━╋   ┫\n",
      "┃   ┃       ┃       ┃       ┃   ┃       ┃       ┃           ┃               ┃   ┃       ┃                       ┃       ┃\n",
      "┣   ╋━━━╋━━━╋━━━╋   ╋   ╋━━━╋   ╋   ╋━━━╋   ╋━━━╋━━━╋   ╋━━━╋━━━╋   ╋━━━╋   ╋   ╋━━━╋━━━╋   ╋━━━╋   ╋━━━╋━━━╋━━━╋━━━╋━━━┫\n",
      "┃                       ┃       ┃   ┃       ┃               ┃       ┃           ┃   ┃       ┃           ┃       ┃       ┃\n",
      "┣   ╋   ╋━━━╋━━━╋━━━╋   ╋━━━╋   ╋━━━╋━━━╋━━━╋   ╋━━━╋━━━╋   ╋   ╋━━━╋━━━╋━━━╋   ╋   ╋   ╋━━━╋━━━╋━━━╋   ╋━━━╋   ╋   ╋   ┫\n",
      "┃   ┃           ┃       ┃       ┃           ┃       ┃   ┃   ┃       ┃                               ┃       ┃       ┃   ┃\n",
      "┣━━━╋   ╋━━━╋   ╋   ╋   ╋   ╋━━━╋━━━╋   ╋━━━╋━━━╋   ╋   ╋   ╋━━━╋   ╋━━━╋━━━╋   ╋━━━╋   ╋━━━╋   ╋   ╋   ╋━━━╋━━━╋   ╋━━━┫\n",
      "┃   ┃       ┃   ┃   ┃       ┃           ┃               ┃   ┃   ┃       ┃       ┃       ┃       ┃   ┃                   ┃\n",
      "┣   ╋   ╋━━━╋━━━╋━━━╋━━━╋━━━╋━━━╋   ╋━━━╋   ╋━━━╋━━━╋   ╋━━━╋   ╋   ╋   ╋━━━╋━━━╋   ╋━━━╋   ╋   ╋━━━╋━━━╋━━━╋   ╋━━━╋━━━┫\n",
      "┃   ┃   ┃           ┃                   ┃           ┃   ┃           ┃   ┃           ┃       ┃               ┃   ┃       ┃\n",
      "┣   ╋   ╋━━━╋━━━╋   ╋━━━╋━━━╋   ╋   ╋   ╋   ╋━━━╋   ╋━━━╋   ╋━━━╋   ╋   ╋━━━╋━━━╋━━━╋━━━╋━━━╋   ╋━━━╋   ╋   ╋   ╋   ╋   ┫\n",
      "┃       ┃       ┃               ┃   ┃           ┃   ┃       ┃       ┃                   ┃   ┃   ┃   ┃   ┃   ┃       ┃   ┃\n",
      "┣━━━╋   ╋━━━╋   ╋   ╋━━━╋   ╋━━━╋━━━╋   ╋━━━╋   ╋   ╋   ╋━━━╋━━━╋━━━╋   ╋   ╋   ╋   ╋   ╋   ╋   ╋   ╋━━━╋━━━╋━━━╋   ╋━━━┫\n",
      "┃       ┃           ┃       ┃               ┃   ┃   ┃   ┃   ┃       ┃   ┃   ┃   ┃   ┃   ┃                       ┃   ┃   ┃\n",
      "┣━━━╋   ╋   ╋   ╋   ╋   ╋━━━╋━━━╋━━━╋━━━╋━━━╋   ╋━━━╋━━━╋   ╋   ╋   ╋   ╋━━━╋   ╋   ╋━━━╋━━━╋━━━╋   ╋━━━╋   ╋   ╋━━━╋   ┫\n",
      "┃   ┃   ┃   ┃   ┃   ┃   ┃       ┃                           ┃   ┃       ┃   ┃   ┃       ┃       ┃       ┃   ┃   ┃       ┃\n",
      "┣   ╋━━━╋━━━╋   ╋━━━╋━━━╋━━━╋   ╋━━━╋━━━╋   ╋   ╋   ╋━━━╋━━━╋   ╋   ╋   ╋   ╋━━━╋━━━╋━━━╋━━━╋   ╋   ╋━━━╋   ╋━━━╋   ╋━━━┫\n",
      "┃       ┃       ┃               ┃   ┃   ┃   ┃   ┃   ┃   ┃       ┃   ┃       ┃                   ┃   ┃           ┃   ┃   ┃\n",
      "┣   ╋━━━╋━━━╋   ╋   ╋   ╋   ╋━━━╋   ╋   ╋━━━╋   ╋━━━╋   ╋   ╋   ╋━━━╋━━━╋   ╋   ╋━━━╋━━━╋━━━╋   ╋━━━╋━━━╋   ╋   ╋   ╋   ┫\n",
      "┃   ┃           ┃   ┃   ┃           ┃   ┃           ┃   ┃   ┃   ┃                           ┃       ┃   ┃   ┃           ┃\n",
      "┣   ╋━━━╋   ╋━━━╋━━━╋   ╋   ╋━━━╋   ╋   ╋━━━╋   ╋━━━╋   ╋━━━╋   ╋   ╋   ╋━━━╋   ╋   ╋━━━╋   ╋━━━╋   ╋   ╋━━━╋━━━╋   ╋━━━┫\n",
      "┃       ┃   ┃   ┃   ┃   ┃   ┃                       ┃       ┃   ┃   ┃       ┃   ┃   ┃       ┃       ┃       ┃   ┃   ┃   ┃\n",
      "┣   ╋━━━╋━━━╋   ╋   ╋━━━╋━━━╋━━━╋   ╋━━━╋━━━╋━━━╋   ╋   ╋━━━╋━━━╋   ╋━━━╋━━━╋━━━╋━━━╋   ╋   ╋   ╋━━━╋━━━╋   ╋   ╋   ╋   ┫\n",
      "┃   ┃               ┃                       ┃               ┃                       ┃   ┃   ┃           ┃   ┃   ┃       ┃\n",
      "┣   ╋   ╋━━━╋   ╋   ╋   ╋━━━╋   ╋━━━╋━━━╋   ╋   ╋━━━╋   ╋   ╋━━━╋━━━╋   ╋━━━╋━━━╋━━━╋   ╋━━━╋━━━╋━━━╋   ╋   ╋   ╋   ╋   ┫\n",
      "┃       ┃   ┃   ┃       ┃       ┃       ┃   ┃       ┃   ┃   ┃   ┃           ┃   ┃           ┃                   ┃   ┃   ┃\n",
      "┣━━━╋   ╋   ╋━━━╋━━━╋   ╋━━━╋   ╋━━━╋   ╋   ╋━━━╋━━━╋━━━╋   ╋   ╋━━━╋━━━╋   ╋   ╋   ╋   ╋━━━╋━━━╋   ╋   ╋   ╋━━━╋   ╋━━━┫\n",
      "┃   ┃       ┃           ┃               ┃       ┃       ┃   ┃               ┃       ┃   ┃           ┃   ┃       ┃       ┃\n",
      "┣   ╋   ╋   ╋   ╋━━━╋   ╋━━━╋━━━╋   ╋   ╋   ╋   ╋   ╋   ╋   ╋━━━╋━━━╋   ╋━━━╋━━━╋━━━╋   ╋━━━╋━━━╋━━━╋━━━╋━━━╋   ╋━━━╋   ┫\n",
      "┃       ┃   ┃       ┃           ┃   ┃   ┃   ┃   ┃   ┃           ┃       ┃           ┃           ┃   ┃   ┃   ┃       ┃   ┃\n",
      "┣━━━╋   ╋   ╋━━━╋━━━╋   ╋   ╋   ╋   ╋━━━╋   ╋━━━╋   ╋━━━╋   ╋   ╋━━━╋━━━╋   ╋━━━╋━━━╋━━━╋━━━╋━━━╋   ╋   ╋   ╋   ╋   ╋   ┫\n",
      "┃       ┃   ┃   ┃   ┃   ┃   ┃   ┃   ┃   ┃   ┃       ┃   ┃   ┃   ┃       ┃           ┃                       ┃   ┃   ┃   ┃\n",
      "┣━━━╋   ╋━━━╋   ╋   ╋   ╋   ╋━━━╋   ╋   ╋━━━╋━━━╋   ╋   ╋━━━╋━━━╋   ╋━━━╋   ╋   ╋━━━╋━━━╋   ╋━━━╋   ╋   ╋   ╋━━━╋   ╋━━━┫\n",
      "┃       ┃       ┃       ┃   ┃   ┃       ┃   ┃   ┃   ┃       ┃       ┃       ┃               ┃   ┃   ┃   ┃   ┃       ┃   ┃\n",
      "┣   ╋━━━╋   ╋━━━╋   ╋━━━╋   ╋   ╋━━━╋   ╋   ╋   ╋   ╋━━━╋   ╋━━━╋   ╋   ╋━━━╋━━━╋━━━╋   ╋━━━╋   ╋━━━╋   ╋━━━╋━━━╋   ╋   ┫\n",
      "┃   ┃                   ┃           ┃   ┃   ┃       ┃                           ┃                   ┃   ┃           ┃   ┃\n",
      "┣   ╋━━━╋━━━╋   ╋   ╋━━━╋   ╋   ╋━━━╋   ╋   ╋━━━╋   ╋━━━╋━━━╋   ╋━━━╋   ╋━━━╋━━━╋━━━╋   ╋━━━╋   ╋   ╋━━━╋   ╋   ╋   ╋   ┫\n",
      "┃   ┃       ┃   ┃   ┃       ┃   ┃   ┃   ┃                           ┃   ┃           ┃       ┃   ┃       ┃   ┃   ┃   ┃   ┃\n",
      "┣━━━╋   ╋   ╋━━━╋   ╋   ╋━━━╋   ╋   ╋━━━╋   ╋━━━╋━━━╋   ╋   ╋━━━╋   ╋━━━╋━━━╋   ╋   ╋━━━╋━━━╋   ╋━━━╋   ╋━━━╋   ╋━━━╋   ┫\n",
      "┃       ┃           ┃       ┃           ┃       ┃       ┃   ┃   ┃               ┃   ┃   ┃       ┃           ┃   ┃   ┃   ┃\n",
      "┣━━━╋   ╋   ╋   ╋━━━╋━━━╋━━━╋   ╋   ╋━━━╋━━━╋   ╋   ╋━━━╋━━━╋   ╋   ╋━━━╋━━━╋   ╋━━━╋   ╋━━━╋━━━╋   ╋   ╋━━━╋━━━╋   ╋   ┫\n",
      "┃   ┃   ┃   ┃       ┃           ┃   ┃       ┃   ┃   ┃   ┃           ┃               ┃   ┃       ┃   ┃   ┃               ┃\n",
      "┣   ╋   ╋━━━╋━━━╋━━━╋   ╋━━━╋   ╋   ╋   ╋━━━╋━━━╋━━━╋   ╋   ╋   ╋━━━╋━━━╋   ╋   ╋━━━╋   ╋   ╋━━━╋━━━╋━━━╋   ╋━━━╋   ╋━━━┫\n",
      "┃       ┃   ┃       ┃   ┃       ┃       ┃   ┃   ┃       ┃   ┃   ┃   ┃       ┃       ┃                   ┃   ┃           ┃\n",
      "┣━━━╋   ╋   ╋━━━╋   ╋━━━╋━━━╋   ╋   ╋   ╋   ╋   ╋   ╋   ╋━━━╋━━━╋   ╋   ╋   ╋━━━╋   ╋   ╋━━━╋   ╋━━━╋   ╋   ╋━━━╋   ╋━━━┫\n",
      "┃                   ┃           ┃   ┃               ┃   ┃   ┃           ┃       ┃       ┃       ┃               ┃       ┃\n",
      "┣━━━╋━━━╋   ╋   ╋━━━╋━━━╋   ╋   ╋   ╋   ╋━━━╋   ╋━━━╋━━━╋   ╋━━━╋━━━╋   ╋━━━╋━━━╋━━━╋━━━╋   ╋━━━╋   ╋━━━╋━━━╋━━━╋━━━╋   ┫\n",
      "┃           ┃       ┃       ┃   ┃   ┃   ┃   ┃   ┃       ┃       ┃       ┃               ┃       ┃       ┃               ┃\n",
      "┣━━━╋━━━╋━━━╋━━━╋   ╋━━━╋   ╋   ╋━━━╋   ╋   ╋━━━╋━━━╋   ╋   ╋━━━╋━━━╋   ╋   ╋   ╋━━━╋   ╋   ╋━━━╋━━━╋   ╋   ╋━━━╋━━━╋   ┫\n",
      "┃       ┃   ┃           ┃   ┃   ┃       ┃           ┃       ┃       ┃       ┃   ┃       ┃   ┃           ┃       ┃   ┃   ┃\n",
      "┣   ╋   ╋   ╋   ╋━━━╋━━━╋   ╋━━━╋━━━╋━━━╋   ╋━━━╋   ╋   ╋   ╋   ╋   ╋   ╋   ╋━━━╋━━━╋   ╋━━━╋━━━╋━━━╋━━━╋━━━╋   ╋   ╋━━━┫\n",
      "┃   ┃       ┃           ┃           ┃       ┃   ┃       ┃   ┃   ┃       ┃   ┃   ┃           ┃                           ┃\n",
      "┣━━━╋━━━╋   ╋   ╋━━━╋━━━╋━━━╋   ╋   ╋━━━╋   ╋   ╋━━━╋━━━╋━━━╋   ╋   ╋━━━╋━━━╋   ╋   ╋━━━╋   ╋━━━╋━━━╋━━━╋   ╋━━━╋   ╋━━━┫\n",
      "┃                       ┃       ┃                       ┃       ┃               ┃       ┃               ┃       ┃       ┃\n",
      "┣━━━╋   ╋━━━╋   ╋   ╋   ╋━━━╋   ╋━━━╋   ╋━━━╋━━━╋━━━╋   ╋━━━╋━━━╋   ╋━━━╋   ╋━━━╋   ╋━━━╋   ╋   ╋   ╋━━━╋━━━╋   ╋   ╋   ┫\n",
      "┃           ┃   ┃   ┃   ┃           ┃               ┃   ┃           ┃           ┃       ┃   ┃   ┃   ┃           ┃   ┃   ┃\n",
      "┣━━━╋   ╋━━━╋━━━╋━━━╋━━━╋   ╋   ╋   ╋━━━╋━━━╋   ╋━━━╋   ╋━━━╋━━━╋   ╋━━━╋━━━╋━━━╋━━━╋   ╋   ╋━━━╋   ╋━━━╋   ╋━━━╋━━━╋   ┫\n",
      "┃   ┃   ┃           ┃       ┃   ┃   ┃               ┃       ┃               ┃   ┃       ┃       ┃   ┃           ┃       ┃\n",
      "┣   ╋━━━╋   ╋━━━╋   ╋━━━╋━━━╋   ╋━━━╋━━━╋   ╋   ╋━━━╋━━━╋━━━╋   ╋━━━╋━━━╋   ╋   ╋━━━╋━━━╋━━━╋   ╋━━━╋━━━╋   ╋━━━╋━━━╋   ┫\n",
      "┃           ┃           ┃           ┃       ┃       ┃   ┃   ┃       ┃       ┃           ┃       ┃   ┃           ┃   ┃   ┃\n",
      "┣   ╋━━━╋━━━╋   ╋━━━╋   ╋   ╋━━━╋━━━╋   ╋   ╋━━━╋   ╋   ╋   ╋━━━╋━━━╋━━━╋   ╋   ╋   ╋   ╋   ╋━━━╋   ╋━━━╋   ╋   ╋   ╋━━━┫\n",
      "┃   ┃               ┃       ┃           ┃   ┃                           ┃       ┃   ┃   ┃       ┃           ┃           ┃\n",
      "┣━━━╋━━━╋   ╋   ╋   ╋━━━╋━━━╋━━━╋   ╋━━━╋   ╋━━━╋   ╋━━━╋━━━╋━━━╋━━━╋━━━╋   ╋━━━╋   ╋   ╋━━━╋━━━╋━━━╋   ╋━━━╋   ╋━━━╋━━━┫\n",
      "┃   ┃       ┃   ┃   ┃       ┃       ┃       ┃   ┃           ┃   ┃           ┃   ┃   ┃   ┃       ┃       ┃               ┃\n",
      "┣   ╋   ╋━━━╋━━━╋━━━╋   ╋━━━╋━━━╋━━━╋   ╋━━━╋   ╋━━━╋━━━╋   ╋   ╋   ╋━━━╋━━━╋   ╋   ╋   ╋   ╋━━━╋━━━╋━━━╋━━━╋   ╋   ╋━━━┫\n",
      "┃   ┃   ┃   ┃           ┃   ┃   ┃   ┃       ┃       ┃   ┃   ┃   ┃               ┃   ┃   ┃       ┃           ┃   ┃   ┃   ┃\n",
      "┣   ╋━━━╋   ╋   ╋   ╋━━━╋   ╋   ╋   ╋   ╋   ╋   ╋   ╋   ╋━━━╋   ╋   ╋━━━╋   ╋━━━╋━━━╋━━━╋   ╋━━━╋   ╋━━━╋━━━╋━━━╋━━━╋   ┫\n",
      "┃           ┃   ┃   ┃           ┃   ┃   ┃       ┃           ┃   ┃       ┃       ┃           ┃   ┃       ┃               ┃\n",
      "┣   ╋   ╋   ╋━━━╋   ╋   ╋   ╋━━━╋   ╋   ╋━━━╋   ╋━━━╋   ╋━━━╋   ╋   ╋━━━╋━━━╋━━━╋   ╋━━━╋   ╋   ╋━━━╋   ╋   ╋   ╋━━━╋━━━┫\n",
      "┃   ┃   ┃   ┃           ┃   ┃   ┃   ┃   ┃           ┃   ┃       ┃           ┃       ┃                   ┃   ┃   ┃   ┃   ┃\n",
      "┣   ╋   ╋   ╋   ╋   ╋━━━╋   ╋   ╋   ╋   ╋━━━╋━━━╋   ╋━━━╋   ╋   ╋   ╋   ╋━━━╋━━━╋   ╋━━━╋━━━╋   ╋━━━╋━━━╋━━━╋   ╋   ╋   ┫\n",
      "┃   ┃   ┃   ┃   ┃       ┃       ┃   ┃           ┃           ┃   ┃   ┃   ┃   ┃               ┃           ┃       ┃       ┃\n",
      "┣━━━╋━━━╋   ╋━━━╋   ╋   ╋━━━╋   ╋   ╋   ╋━━━╋━━━╋━━━╋   ╋━━━╋━━━╋━━━╋   ╋   ╋━━━╋   ╋━━━╋   ╋   ╋   ╋   ╋━━━╋   ╋   ╋━━━┫\n",
      "┃           ┃       ┃       ┃           ┃   ┃               ┃           ┃   ┃           ┃   ┃   ┃   ┃           ┃   ┃   ┃\n",
      "┣   ╋   ╋   ╋━━━╋   ╋━━━╋   ╋━━━╋   ╋   ╋   ╋   ╋   ╋━━━╋━━━╋   ╋━━━╋   ╋   ╋   ╋━━━╋━━━╋   ╋━━━╋━━━╋   ╋━━━╋━━━╋   ╋   ┫\n",
      "┃   ┃   ┃           ┃   ┃       ┃   ┃       ┃   ┃           ┃       ┃           ┃       ┃   ┃   ┃   ┃           ┃   ┃   ┃\n",
      "┣━━━╋   ╋   ╋   ╋   ╋   ╋   ╋━━━╋   ╋━━━╋   ╋   ╋   ╋   ╋   ╋   ╋   ╋   ╋   ╋━━━╋   ╋━━━╋━━━╋   ╋   ╋   ╋   ╋   ╋   ╋   ┫\n",
      "┃       ┃   ┃   ┃   ┃       ┃   ┃   ┃       ┃   ┃   ┃   ┃   ┃   ┃   ┃   ┃                       ┃   ┃   ┃   ┃           ┃\n",
      "┣━━━╋━━━╋━━━╋━━━╋━━━╋   ╋   ╋   ╋━━━╋━━━╋━━━╋   ╋━━━╋━━━╋━━━╋   ╋   ╋━━━╋━━━╋━━━╋━━━╋   ╋━━━╋   ╋   ╋━━━╋   ╋   ╋   ╋━━━┫\n",
      "┃                   ┃   ┃           ┃       ┃               ┃   ┃   ┃           ┃           ┃   ┃           ┃   ┃       ┃\n",
      "┣━━━╋━━━╋━━━╋   ╋━━━╋   ╋━━━╋   ╋   ╋   ╋━━━╋   ╋━━━╋━━━╋━━━╋   ╋━━━╋━━━╋   ╋━━━╋━━━╋━━━╋━━━╋   ╋━━━╋━━━╋━━━╋━━━╋━━━╋   ┫\n",
      "┃           ┃           ┃   ┃   ┃   ┃   ┃       ┃               ┃                       ┃       ┃                   ┃   ┃\n",
      "┣━━━╋   ╋   ╋   ╋━━━╋   ╋   ╋   ╋   ╋   ╋   ╋   ╋━━━╋━━━╋━━━╋   ╋   ╋━━━╋   ╋━━━╋   ╋   ╋━━━╋━━━╋━━━╋   ╋   ╋━━━╋━━━╋━━━┫\n",
      "┃   ┃   ┃   ┃       ┃   ┃       ┃       ┃   ┃               ┃   ┃   ┃           ┃   ┃   ┃               ┃       ┃   ┃   ┃\n",
      "┣   ╋━━━╋   ╋   ╋━━━╋━━━╋━━━╋   ╋   ╋   ╋━━━╋   ╋━━━╋━━━╋   ╋━━━╋━━━╋   ╋   ╋━━━╋━━━╋━━━╋   ╋   ╋━━━╋   ╋   ╋━━━╋   ╋   ┫\n",
      "┃                       ┃       ┃   ┃   ┃           ┃   ┃       ┃       ┃           ┃   ┃   ┃       ┃   ┃   ┃       ┃   ┃\n",
      "┣━━━╋━━━╋━━━╋   ╋━━━╋━━━╋━━━╋━━━╋   ╋━━━╋━━━╋   ╋━━━╋   ╋━━━╋━━━╋━━━╋━━━╋   ╋━━━╋   ╋   ╋   ╋   ╋   ╋   ╋   ╋   ╋━━━╋   ┫\n",
      "┃                           ┃               ┃   ┃                               ┃       ┃   ┃   ┃   ┃   ┃   ┃           ┃\n",
      "┣━━━╋━━━╋   ╋━━━╋━━━╋━━━╋━━━╋   ╋━━━╋   ╋━━━╋━━━╋━━━╋   ╋━━━╋━━━╋━━━╋   ╋   ╋   ╋━━━╋━━━╋   ╋━━━╋━━━╋━━━╋   ╋   ╋   ╋━━━┫\n",
      "┃                   ┃       ┃   ┃   ┃           ┃                   ┃   ┃   ┃                           ┃       ┃       ┃\n",
      "┣━━━╋━━━╋   ╋━━━╋━━━╋   ╋   ╋   ╋   ╋   ╋━━━╋   ╋   ╋━━━╋━━━╋━━━╋━━━╋━━━╋   ╋━━━╋   ╋━━━╋━━━╋━━━╋━━━╋━━━╋   ╋   ╋━━━╋   ┫\n",
      "┃       ┃       ┃       ┃   ┃   ┃           ┃               ┃       ┃           ┃                   ┃       ┃   ┃       ┃\n",
      "┣━━━╋   ╋━━━╋━━━╋   ╋   ╋   ╋━━━╋━━━╋   ╋   ╋━━━╋━━━╋   ╋━━━╋   ╋   ╋   ╋   ╋   ╋   ╋━━━╋━━━╋━━━╋━━━╋   ╋━━━╋━━━╋   ╋   ┫\n",
      "┃   ┃               ┃   ┃   ┃           ┃   ┃                   ┃   ┃   ┃   ┃   ┃                   ┃       ┃       ┃   ┃\n",
      "┣   ╋   ╋━━━╋━━━╋━━━╋━━━╋━━━╋━━━╋━━━╋   ╋   ╋   ╋   ╋━━━╋━━━╋   ╋   ╋   ╋━━━╋   ╋   ╋━━━╋━━━╋━━━╋━━━╋   ╋━━━╋━━━╋━━━╋━━━┫\n",
      "┃                   ┃       ┃   ┃   ┃   ┃   ┃   ┃   ┃       ┃   ┃   ┃   ┃   ┃   ┃   ┃           ┃       ┃               ┃\n",
      "┣━━━╋━━━╋   ╋   ╋━━━╋━━━╋   ╋   ╋   ╋━━━╋   ╋   ╋   ╋   ╋━━━╋━━━╋   ╋━━━╋   ╋━━━╋   ╋━━━╋   ╋━━━╋━━━╋   ╋━━━╋━━━╋━━━╋   ┫\n",
      "┃           ┃       ┃                       ┃   ┃   ┃                   ┃       ┃               ┃                       ┃\n",
      "┣━━━╋   ╋━━━╋━━━╋   ╋   ╋   ╋━━━╋━━━╋   ╋   ╋   ╋   ╋   ╋━━━╋━━━╋━━━╋━━━╋   ╋   ╋━━━╋   ╋   ╋━━━╋   ╋━━━╋   ╋━━━╋━━━╋   ┫\n",
      "┃   ┃   ┃   ┃           ┃   ┃           ┃   ┃   ┃   ┃   ┃       ┃       ┃   ┃           ┃   ┃           ┃       ┃   ┃   ┃\n",
      "┣   ╋   ╋   ╋━━━╋   ╋━━━╋   ╋━━━╋━━━╋   ╋━━━╋━━━╋   ╋   ╋━━━╋   ╋   ╋   ╋━━━╋   ╋   ╋━━━╋   ╋━━━╋━━━╋━━━╋━━━╋   ╋   ╋   ┫\n",
      "┃       ┃           ┃               ┃           ┃   ┃   ┃           ┃       ┃   ┃       ┃       ┃   ┃               ┃   ┃\n",
      "┣━━━╋   ╋━━━╋   ╋━━━╋━━━╋━━━╋━━━╋━━━╋   ╋━━━╋━━━╋   ╋   ╋   ╋   ╋   ╋   ╋━━━╋   ╋━━━╋━━━╋   ╋━━━╋   ╋━━━╋   ╋━━━╋   ╋━━━┫\n",
      "┃   ┃       ┃       ┃                           ┃   ┃       ┃   ┃   ┃       ┃   ┃   ┃       ┃               ┃           ┃\n",
      "┣   ╋   ╋━━━╋━━━╋━━━╋━━━╋━━━╋   ╋━━━╋   ╋━━━╋━━━╋   ╋━━━╋   ╋━━━╋━━━╋   ╋━━━╋━━━╋   ╋   ╋   ╋━━━╋━━━╋━━━╋   ╋━━━╋   ╋━━━┫\n",
      "┃   ┃   ┃                       ┃       ┃               ┃       ┃   ┃           ┃   ┃   ┃   ┃       ┃           ┃   ┃   ┃\n",
      "┣   ╋━━━╋━━━╋━━━╋   ╋━━━╋━━━╋   ╋━━━╋   ╋   ╋━━━╋━━━╋   ╋━━━╋━━━╋   ╋━━━╋   ╋━━━╋   ╋━━━╋   ╋━━━╋   ╋━━━╋   ╋━━━╋   ╋   ┫\n",
      "┃   ┃       ┃   ┃   ┃       ┃   ┃       ┃           ┃       ┃                           ┃   ┃                   ┃   ┃   ┃\n",
      "┣   ╋   ╋   ╋   ╋   ╋   ╋━━━╋━━━╋━━━╋━━━╋   ╋━━━╋   ╋━━━╋   ╋   ╋━━━╋   ╋━━━╋   ╋   ╋   ╋━━━╋━━━╋   ╋━━━╋   ╋   ╋━━━╋   ┫\n",
      "┃   ┃   ┃       ┃   ┃       ┃   ┃   ┃       ┃       ┃       ┃   ┃           ┃   ┃   ┃       ┃       ┃   ┃   ┃           ┃\n",
      "┣   ╋   ╋   ╋   ╋   ╋   ╋━━━╋   ╋   ╋   ╋   ╋━━━╋   ╋━━━╋━━━╋━━━╋   ╋━━━╋━━━╋━━━╋━━━╋━━━╋━━━╋━━━╋━━━╋   ╋━━━╋━━━╋   ╋━━━┫\n",
      "┃       ┃   ┃       ┃           ┃       ┃   ┃       ┃   ┃                           ┃           ┃               ┃   ┃   ┃\n",
      "┣   ╋━━━╋━━━╋   ╋   ╋   ╋━━━╋━━━╋━━━╋   ╋   ╋   ╋━━━╋   ╋━━━╋   ╋━━━╋   ╋   ╋   ╋   ╋   ╋   ╋   ╋   ╋   ╋━━━╋   ╋━━━╋   ┫\n",
      "┃   ┃           ┃           ┃           ┃   ┃       ┃               ┃   ┃   ┃   ┃       ┃   ┃       ┃       ┃           ┃\n",
      "┣━━━╋━━━╋━━━╋━━━╋━━━╋━━━╋━━━╋━━━╋   ╋━━━╋━━━╋━━━╋━━━╋━━━╋━━━╋━━━╋   ╋   ╋━━━╋━━━╋━━━╋   ╋   ╋━━━╋━━━╋   ╋   ╋━━━╋   ╋━━━┫\n",
      "┃                               ┃                           ┃   ┃   ┃               ┃   ┃       ┃   ┃   ┃       ┃       ┃\n",
      "┣   ╋━━━╋━━━╋━━━╋   ╋━━━╋━━━╋   ╋━━━╋   ╋━━━╋━━━╋   ╋━━━╋   ╋   ╋   ╋━━━╋   ╋━━━╋   ╋━━━╋   ╋   ╋   ╋━━━╋━━━╋━━━╋━━━╋   ┫\n",
      "┃       ┃           ┃   ┃                   ┃   ┃       ┃   ┃       ┃   ┃   ┃   ┃   ┃       ┃   ┃           ┃   ┃   ┃   ┃\n",
      "┣   ╋━━━╋━━━╋━━━╋━━━╋   ╋   ╋   ╋   ╋━━━╋   ╋   ╋━━━╋   ╋   ╋   ╋━━━╋   ╋   ╋   ╋   ╋━━━╋━━━╋   ╋━━━╋   ╋━━━╋   ╋   ╋━━━┫\n",
      "┃   ┃               ┃   ┃   ┃   ┃   ┃   ┃   ┃       ┃   ┃   ┃       ┃   ┃       ┃           ┃                       ┃   ┃\n",
      "┣━━━╋━━━╋━━━╋   ╋   ╋   ╋   ╋━━━╋   ╋   ╋   ╋   ╋━━━╋   ╋   ╋━━━╋   ╋   ╋━━━╋   ╋   ╋━━━╋   ╋   ╋━━━╋━━━╋   ╋━━━╋   ╋   ┫\n",
      "┃   ┃   ┃   ┃   ┃           ┃       ┃           ┃       ┃   ┃               ┃   ┃   ┃       ┃           ┃       ┃   ┃   ┃\n",
      "┣   ╋   ╋   ╋━━━╋━━━╋━━━╋   ╋   ╋   ╋━━━╋   ╋   ╋━━━╋━━━╋━━━╋━━━╋   ╋━━━╋━━━╋━━━╋━━━╋━━━╋━━━╋━━━╋   ╋   ╋━━━╋   ╋   ╋   ┫\n",
      "┃       ┃               ┃   ┃   ┃   ┃       ┃               ┃   ┃               ┃           ┃   ┃   ┃   ┃   ┃   ┃   ┃   ┃\n",
      "┣   ╋   ╋━━━╋━━━╋   ╋   ╋   ╋   ╋━━━╋━━━╋   ╋━━━╋━━━╋   ╋   ╋   ╋   ╋━━━╋━━━╋━━━╋   ╋━━━╋━━━╋   ╋━━━╋━━━╋   ╋   ╋━━━╋   ┫\n",
      "┃   ┃               ┃       ┃           ┃   ┃       ┃   ┃       ┃   ┃   ┃   ┃       ┃   ┃               ┃               ┃\n",
      "┣   ╋━━━╋   ╋━━━╋━━━╋━━━╋━━━╋   ╋━━━╋   ╋   ╋   ╋━━━╋   ╋━━━╋   ╋   ╋   ╋   ╋━━━╋   ╋   ╋━━━╋━━━╋   ╋━━━╋━━━╋━━━╋━━━╋   ┫\n",
      "┃   ┃               ┃       ┃   ┃   ┃   ┃           ┃   ┃       ┃               ┃                           ┃           ┃\n",
      "┣━━━╋━━━╋━━━╋   ╋   ╋   ╋━━━╋   ╋   ╋   ╋━━━╋━━━╋   ╋━━━╋━━━╋━━━╋━━━╋   ╋━━━╋━━━╋   ╋━━━╋   ╋   ╋   ╋━━━╋━━━╋   ╋   ╋   ┫\n",
      "┃       ┃       ┃       ┃           ┃           ┃       ┃           ┃               ┃       ┃   ┃           ┃   ┃   ┃   ┃\n",
      "┣   ╋━━━╋   ╋━━━╋━━━╋   ╋   ╋━━━╋━━━╋   ╋━━━╋━━━╋━━━╋━━━╋   ╋━━━╋   ╋   ╋   ╋   ╋   ╋━━━╋━━━╋━━━╋━━━╋   ╋   ╋━━━╋━━━╋   ┫\n",
      "┃               ┃       ┃           ┃       ┃       ┃   ┃   ┃   ┃       ┃   ┃   ┃       ┃           ┃   ┃       ┃       ┃\n",
      "┣   ╋━━━╋━━━╋   ╋━━━╋━━━╋   ╋━━━╋   ╋━━━╋   ╋━━━╋   ╋   ╋   ╋   ╋━━━╋   ╋━━━╋━━━╋━━━╋━━━╋━━━╋   ╋   ╋━━━╋   ╋━━━╋━━━╋   ┫\n",
      "┃           ┃   ┃       ┃   ┃       ┃                   ┃       ┃                   ┃   ┃       ┃   ┃       ┃       ┃   ┃\n",
      "┣   ╋━━━╋━━━╋━━━╋   ╋━━━╋━━━╋━━━╋   ╋━━━╋   ╋━━━╋━━━╋━━━╋━━━╋━━━╋━━━╋   ╋━━━╋━━━╋━━━╋   ╋━━━╋   ╋━━━╋   ╋━━━╋━━━╋   ╋━━━┫\n",
      "┃   ┃       ┃   ┃   ┃               ┃       ┃   ┃       ┃   ┃           ┃   ┃   ┃           ┃       ┃   ┃               ┃\n",
      "┣   ╋   ╋━━━╋   ╋   ╋━━━╋   ╋   ╋━━━╋   ╋   ╋   ╋   ╋   ╋   ╋   ╋━━━╋   ╋   ╋   ╋   ╋━━━╋   ╋   ╋━━━╋━━━╋━━━╋   ╋   ╋━━━┫\n",
      "┃                   ┃       ┃       ┃   ┃   ┃   ┃   ┃           ┃               ┃       ┃   ┃       ┃           ┃   ┃   ┃\n",
      "┣━━━╋   ╋   ╋   ╋━━━╋━━━╋   ╋━━━╋━━━╋━━━╋   ╋   ╋   ╋   ╋━━━╋   ╋━━━╋   ╋   ╋━━━╋   ╋━━━╋━━━╋━━━╋   ╋━━━╋   ╋━━━╋   ╋   ┫\n",
      "┃       ┃   ┃           ┃       ┃   ┃       ┃   ┃   ┃       ┃   ┃       ┃           ┃                           ┃   ┃   ┃\n",
      "┣   ╋━━━╋━━━╋   ╋━━━╋   ╋   ╋━━━╋   ╋   ╋━━━╋   ╋━━━╋━━━╋   ╋━━━╋   ╋━━━╋━━━╋━━━╋   ╋   ╋━━━╋━━━╋━━━╋━━━╋━━━╋━━━╋━━━╋   ┫\n",
      "┃       ┃       ┃   ┃   ┃   ┃                       ┃       ┃       ┃       ┃                               ┃       ┃   ┃\n",
      "┣━━━╋   ╋━━━╋━━━╋   ╋   ╋━━━╋   ╋━━━╋   ╋━━━╋━━━╋   ╋   ╋   ╋━━━╋   ╋   ╋   ╋━━━╋   ╋━━━╋   ╋   ╋━━━╋   ╋━━━╋   ╋━━━╋   ┫\n",
      "┃       ┃                   ┃       ┃       ┃   ┃   ┃   ┃       ┃   ┃   ┃       ┃       ┃   ┃       ┃                   ┃\n",
      "┣   ╋━━━╋   ╋━━━╋   ╋   ╋━━━╋   ╋━━━╋   ╋━━━╋   ╋━━━╋   ╋   ╋━━━╋━━━╋   ╋━━━╋━━━╋━━━╋   ╋   ╋   ╋   ╋   ╋━━━╋   ╋━━━╋   ┫\n",
      "┃   ┃       ┃   ┃   ┃   ┃       ┃   ┃   ┃   ┃       ┃   ┃   ┃                       ┃   ┃   ┃   ┃   ┃   ┃           ┃   ┃\n",
      "┣━━━╋━━━╋   ╋   ╋━━━╋━━━╋━━━╋━━━╋   ╋   ╋   ╋   ╋━━━╋   ╋   ╋━━━╋━━━╋━━━╋   ╋━━━╋   ╋   ╋   ╋━━━╋━━━╋━━━╋━━━╋   ╋━━━╋   ┫\n",
      "┃                   ┃                       ┃   ┃       ┃   ┃   ┃   ┃   ┃   ┃           ┃       ┃       ┃       ┃   ┃   ┃\n",
      "┣━━━╋━━━╋   ╋━━━╋   ╋━━━╋   ╋   ╋━━━╋━━━╋━━━╋   ╋━━━╋━━━╋   ╋   ╋   ╋   ╋━━━╋━━━╋━━━╋   ╋━━━╋━━━╋   ╋━━━╋   ╋━━━╋   ╋━━━┫\n",
      "┃           ┃       ┃   ┃   ┃       ┃           ┃                           ┃               ┃       ┃                   ┃\n",
      "┣   ╋   ╋━━━╋   ╋━━━╋   ╋━━━╋━━━╋━━━╋   ╋   ╋━━━╋━━━╋   ╋━━━╋━━━╋━━━╋━━━╋   ╋━━━╋   ╋   ╋   ╋━━━╋   ╋   ╋━━━╋   ╋━━━╋   ┫\n",
      "┃   ┃   ┃   ┃   ┃       ┃       ┃   ┃   ┃           ┃   ┃           ┃       ┃       ┃   ┃       ┃   ┃       ┃   ┃       ┃\n",
      "┣━━━╋━━━╋   ╋━━━╋━━━╋   ╋   ╋━━━╋   ╋━━━╋━━━╋   ╋   ╋   ╋   ╋   ╋━━━╋━━━╋   ╋━━━╋━━━╋━━━╋   ╋━━━╋   ╋━━━╋━━━╋   ╋   ╋━━━┫\n",
      "┃           ┃   ┃               ┃       ┃   ┃   ┃           ┃       ┃               ┃           ┃   ┃       ┃   ┃       ┃\n",
      "┣   ╋━━━╋   ╋   ╋   ╋━━━╋━━━╋   ╋   ╋   ╋   ╋   ╋   ╋━━━╋━━━╋   ╋━━━╋   ╋━━━╋━━━╋━━━╋   ╋━━━╋━━━╋   ╋   ╋━━━╋   ╋━━━╋━━━┫\n",
      "┃   ┃                   ┃           ┃           ┃           ┃   ┃                   ┃   ┃                       ┃       ┃\n",
      "┣   ╋━━━╋━━━╋   ╋━━━╋━━━╋   ╋━━━╋━━━╋   ╋━━━╋━━━╋   ╋━━━╋━━━╋   ╋━━━╋   ╋━━━╋━━━╋   ╋━━━╋━━━╋━━━╋   ╋   ╋━━━╋━━━╋   ╋━━━┫\n",
      "┃   ┃   ┃       ┃                   ┃           ┃   ┃       ┃   ┃       ┃           ┃               ┃       ┃           ┃\n",
      "┣━━━╋   ╋━━━╋━━━╋━━━╋   ╋━━━╋━━━╋━━━╋   ╋━━━╋   ╋   ╋   ╋━━━╋━━━╋━━━╋━━━╋━━━╋   ╋━━━╋━━━╋━━━╋━━━╋━━━╋   ╋   ╋   ╋━━━╋   ┫\n",
      "┃           ┃               ┃       ┃   ┃       ┃               ┃       ┃           ┃       ┃           ┃       ┃   ┃   ┃\n",
      "┣━━━╋━━━╋   ╋━━━╋   ╋━━━╋━━━╋━━━╋   ╋   ╋━━━╋   ╋   ╋   ╋━━━╋━━━╋   ╋━━━╋   ╋━━━╋   ╋   ╋   ╋━━━╋━━━╋   ╋━━━╋   ╋   ╋━━━┫\n",
      "┃           ┃       ┃       ┃               ┃   ┃   ┃                   ┃       ┃   ┃   ┃                   ┃           ┃\n",
      "┣   ╋━━━╋   ╋━━━╋━━━╋━━━╋   ╋━━━╋   ╋   ╋   ╋   ╋━━━╋   ╋━━━╋━━━╋   ╋   ╋   ╋   ╋━━━╋   ╋━━━╋   ╋━━━╋━━━╋   ╋━━━╋   ╋━━━┫\n",
      "┃   ┃   ┃   ┃           ┃           ┃   ┃   ┃       ┃       ┃       ┃   ┃   ┃       ┃   ┃           ┃   ┃       ┃       ┃\n",
      "┣   ╋   ╋   ╋   ╋━━━╋   ╋━━━╋━━━╋━━━╋   ╋   ╋   ╋   ╋   ╋   ╋   ╋━━━╋━━━╋━━━╋   ╋   ╋━━━╋━━━╋━━━╋   ╋   ╋━━━╋   ╋━━━╋━━━┫\n",
      "┃   ┃               ┃                   ┃   ┃   ┃   ┃   ┃   ┃               ┃   ┃       ┃                   ┃           ┃\n",
      "┗━━━┻━━━┻━━━┻━━━┻━━━┻━━━┻━━━┻━━━┻━━━┻━━━┻━━━┻━━━┻━━━┻━━━┻━━━┻━━━┻━━━┻━━━┻━━━┻━━━┻━━━┻━━━┻━━━┻━━━┻━━━┻━━━┻━━━┻━━━┻━━━┻━━━┛\n",
      "\n"
     ]
    }
   ],
   "source": [
    "laby = Maze.gen_wilson(100, 30)\n",
    "print(laby)"
   ]
  }
 ],
 "metadata": {
  "kernelspec": {
   "display_name": "Python 3 (ipykernel)",
   "language": "python",
   "name": "python3"
  },
  "language_info": {
   "codemirror_mode": {
    "name": "ipython",
    "version": 3
   },
   "file_extension": ".py",
   "mimetype": "text/x-python",
   "name": "python",
   "nbconvert_exporter": "python",
   "pygments_lexer": "ipython3",
   "version": "3.8.10"
  }
 },
 "nbformat": 4,
 "nbformat_minor": 5
}
